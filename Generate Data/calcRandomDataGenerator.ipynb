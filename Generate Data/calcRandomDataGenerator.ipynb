{
 "cells": [
  {
   "cell_type": "code",
   "execution_count": 25,
   "id": "prostate-aruba",
   "metadata": {},
   "outputs": [],
   "source": [
    "import random\n",
    "from datetime import datetime\n",
    "from datetime import timedelta\n",
    "import pandas as pd"
   ]
  },
  {
   "cell_type": "code",
   "execution_count": 26,
   "id": "promising-jerusalem",
   "metadata": {},
   "outputs": [],
   "source": [
    "## Capturing lookup list of Products\n",
    "\n",
    "FileLocation=r\".\\input\\productslist.csv\"\n",
    "firstrow=1\n",
    "## Reading files and thn splitting data\n",
    "data = [line.strip() for line in open(FileLocation, 'r')]\n",
    "\n",
    "productList=data[firstrow:]"
   ]
  },
  {
   "cell_type": "code",
   "execution_count": 27,
   "id": "ongoing-macintosh",
   "metadata": {},
   "outputs": [],
   "source": [
    "## Capturing lookup list of Users\n",
    "\n",
    "FileLocation=r\".\\input\\userlist.csv\"\n",
    "firstrow=1\n",
    "\n",
    "## Reading files and thn splitting data\n",
    "data = [line.strip() for line in open(FileLocation, 'r')]\n",
    "\n",
    "userList=data[firstrow:]"
   ]
  },
  {
   "cell_type": "code",
   "execution_count": 28,
   "id": "generous-system",
   "metadata": {},
   "outputs": [],
   "source": [
    "Days=range(10)\n",
    "sec=range(36000)"
   ]
  },
  {
   "cell_type": "code",
   "execution_count": 35,
   "id": "under-lover",
   "metadata": {},
   "outputs": [],
   "source": [
    "## Generating Random data for frequent visitors\n",
    "\n",
    "sample_data = {}\n",
    "sample_data['User']=[]\n",
    "sample_data['Product']=[]\n",
    "sample_data['EventTimestamp']=[]\n",
    "for i in range(70000):\n",
    "    random_days=random.choice(Days)\n",
    "    random_seconds=random.choice(sec)\n",
    "    sample_data['EventTimestamp'].append(datetime.now() - timedelta(days=random_days) + timedelta(seconds=random_seconds))\n",
    "    sample_data['User'].append(random.choice(userList[40:70:random.choice(range(1,4))]))\n",
    "    sample_data['Product'].append(random.choice(productList[5:28:random.choice(range(1,4))]))\n",
    "    \n",
    "\n",
    "df = pd.DataFrame(sample_data)\n",
    "df.to_csv(\"sample_data.csv\",index=False)"
   ]
  },
  {
   "cell_type": "code",
   "execution_count": 36,
   "id": "vital-wrestling",
   "metadata": {},
   "outputs": [],
   "source": [
    "## Generating Random data for medium frequent visitors\n",
    "\n",
    "sample_data = {}\n",
    "sample_data['User']=[]\n",
    "sample_data['Product']=[]\n",
    "sample_data['EventTimestamp']=[]\n",
    "for i in range(30000):\n",
    "    random_days=random.choice(Days)\n",
    "    random_seconds=random.choice(sec)\n",
    "    sample_data['EventTimestamp'].append(datetime.now() - timedelta(days=random_days) + timedelta(seconds=random_seconds))\n",
    "    sample_data['User'].append(random.choice(userList[10:90:random.choice(range(1,3))]))\n",
    "    sample_data['Product'].append(random.choice(productList[5:26:random.choice(range(1,3))]))\n",
    "    \n",
    "\n",
    "df = pd.DataFrame(sample_data)\n",
    "df.to_csv(\"sample_data.csv\",index=False, mode='a')"
   ]
  },
  {
   "cell_type": "code",
   "execution_count": 37,
   "id": "romance-rover",
   "metadata": {},
   "outputs": [],
   "source": [
    "## Generating Random data for less frequent visitors\n",
    "\n",
    "sample_data = {}\n",
    "sample_data['User']=[]\n",
    "sample_data['Product']=[]\n",
    "sample_data['EventTimestamp']=[]\n",
    "for i in range(10000):\n",
    "    random_days=random.choice(Days)\n",
    "    random_seconds=random.choice(sec)\n",
    "    sample_data['EventTimestamp'].append(datetime.now() - timedelta(days=random_days) + timedelta(seconds=random_seconds))\n",
    "    sample_data['User'].append(random.choice(userList))\n",
    "    sample_data['Product'].append(random.choice(productList))\n",
    "    \n",
    "\n",
    "df = pd.DataFrame(sample_data)\n",
    "df.to_csv(\"sample_data.csv\",index=False, mode='a')"
   ]
  },
  {
   "cell_type": "code",
   "execution_count": null,
   "id": "conditional-attitude",
   "metadata": {},
   "outputs": [],
   "source": []
  }
 ],
 "metadata": {
  "kernelspec": {
   "display_name": "Python 3",
   "language": "python",
   "name": "python3"
  },
  "language_info": {
   "codemirror_mode": {
    "name": "ipython",
    "version": 3
   },
   "file_extension": ".py",
   "mimetype": "text/x-python",
   "name": "python",
   "nbconvert_exporter": "python",
   "pygments_lexer": "ipython3",
   "version": "3.8.7"
  }
 },
 "nbformat": 4,
 "nbformat_minor": 5
}
