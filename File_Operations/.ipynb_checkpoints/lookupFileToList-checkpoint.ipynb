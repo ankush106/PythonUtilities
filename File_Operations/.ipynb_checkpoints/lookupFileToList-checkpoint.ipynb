{
 "cells": [
  {
   "cell_type": "code",
   "execution_count": 25,
   "id": "public-drove",
   "metadata": {},
   "outputs": [],
   "source": [
    "##### Method 1 Using Python File Reader"
   ]
  },
  {
   "cell_type": "code",
   "execution_count": null,
   "id": "equivalent-wright",
   "metadata": {},
   "outputs": [],
   "source": [
    "## Convert lookup file to List\n",
    "FileLocation=r\"<Filename with full path>\""
   ]
  },
  {
   "cell_type": "code",
   "execution_count": 26,
   "id": "coordinated-pregnancy",
   "metadata": {},
   "outputs": [],
   "source": [
    "## firstrow = 1 when File have headers \n",
    "## firstrow = 0 hen File data does not have heades\n",
    "firstrow=1\n",
    "\n",
    "## Reading files and thn splitting data\n",
    "data = [line.strip() for line in open(FileLocation, 'r')]\n"
   ]
  },
  {
   "cell_type": "code",
   "execution_count": 27,
   "id": "severe-sperm",
   "metadata": {},
   "outputs": [
    {
     "name": "stdout",
     "output_type": "stream",
     "text": [
      "['Male', 'Female']\n"
     ]
    }
   ],
   "source": [
    "print(data[firstrow:])"
   ]
  },
  {
   "cell_type": "code",
   "execution_count": null,
   "id": "maritime-georgia",
   "metadata": {},
   "outputs": [],
   "source": [
    "##### Method 2 Using Pandas"
   ]
  },
  {
   "cell_type": "code",
   "execution_count": 28,
   "id": "upset-palestinian",
   "metadata": {},
   "outputs": [],
   "source": [
    "import pandas as pd"
   ]
  },
  {
   "cell_type": "code",
   "execution_count": 29,
   "id": "double-nicholas",
   "metadata": {},
   "outputs": [],
   "source": [
    "## When First row has headers\n",
    "df = pd.read_csv(FileLocation)\n",
    "\n",
    "## When headers are specified externally\n",
    "## df = pd.read_csv(FileLocation, names=['Gender'])"
   ]
  },
  {
   "cell_type": "code",
   "execution_count": 30,
   "id": "varied-uzbekistan",
   "metadata": {},
   "outputs": [
    {
     "name": "stdout",
     "output_type": "stream",
     "text": [
      "['Male', 'Female']\n"
     ]
    }
   ],
   "source": [
    "print(df['Gender'].tolist())"
   ]
  },
  {
   "cell_type": "code",
   "execution_count": null,
   "id": "direct-depression",
   "metadata": {},
   "outputs": [],
   "source": []
  }
 ],
 "metadata": {
  "kernelspec": {
   "display_name": "Python 3",
   "language": "python",
   "name": "python3"
  },
  "language_info": {
   "codemirror_mode": {
    "name": "ipython",
    "version": 3
   },
   "file_extension": ".py",
   "mimetype": "text/x-python",
   "name": "python",
   "nbconvert_exporter": "python",
   "pygments_lexer": "ipython3",
   "version": "3.8.7"
  }
 },
 "nbformat": 4,
 "nbformat_minor": 5
}
