{
 "cells": [
  {
   "cell_type": "code",
   "execution_count": 1,
   "id": "forced-investigator",
   "metadata": {},
   "outputs": [],
   "source": [
    "import pandas as pd"
   ]
  },
  {
   "cell_type": "code",
   "execution_count": 2,
   "id": "alike-conditioning",
   "metadata": {},
   "outputs": [],
   "source": [
    "## Input file name with location\n",
    "FileLocation=r\".\\input\\Student.csv\""
   ]
  },
  {
   "cell_type": "code",
   "execution_count": 7,
   "id": "offshore-growing",
   "metadata": {},
   "outputs": [
    {
     "name": "stdout",
     "output_type": "stream",
     "text": [
      "start of the file reading\n",
      "   StudentID          StudentEmail             ExamDate  Scores\n",
      "0          1  student1@college.net  2021-07-12 00:00:00      76\n",
      "First Exam Date in the chunk 2021-07-12 00:00:00\n",
      "First Exam Date in the chunk 2021-07-01 00:00:00\n",
      "end of the file reading\n"
     ]
    }
   ],
   "source": [
    "print('start of the file reading')\n",
    "\n",
    "## Defnie number of rows to be read in single chunk\n",
    "chunksize=3\n",
    "\n",
    "## Reading a huge file in chunks\n",
    "for chunk in pd.read_csv(FileLocation, chunksize=chunksize):\n",
    "    ## Chunk acts as a pandas dataframe\n",
    "    ## Formating Date column using pd.to_datetime and dt.strftime\n",
    "    chunk['ExamDate']=pd.to_datetime(chunk[\"ExamDate\"]).dt.strftime('%Y-%m-%d %H:%M:%S')\n",
    "    \n",
    "    ## Filtering Records based on Email Field (StudentEmail)\n",
    "    testdf=chunk[(chunk.StudentEmail == \"student1@college.net\")]\n",
    "    \n",
    "    ## test data with only top 10 row display\n",
    "    ## print(testdf.head(10))\n",
    "    \n",
    "    ## Checking if the dataframe(chunk) has at-least one row\n",
    "    if len(testdf.index)>0:\n",
    "        print(testdf[['StudentID','StudentEmail','ExamDate','Scores']])\n",
    "    \n",
    "    ## Find minium value of Examdate in each chunk\n",
    "    print(\"First Exam Date in the chunk \" +(chunk['ExamDate']).min())\n",
    "\n",
    "print('end of the file reading')"
   ]
  },
  {
   "cell_type": "code",
   "execution_count": null,
   "id": "pressed-population",
   "metadata": {},
   "outputs": [],
   "source": []
  }
 ],
 "metadata": {
  "kernelspec": {
   "display_name": "Python 3",
   "language": "python",
   "name": "python3"
  },
  "language_info": {
   "codemirror_mode": {
    "name": "ipython",
    "version": 3
   },
   "file_extension": ".py",
   "mimetype": "text/x-python",
   "name": "python",
   "nbconvert_exporter": "python",
   "pygments_lexer": "ipython3",
   "version": "3.8.7"
  }
 },
 "nbformat": 4,
 "nbformat_minor": 5
}
